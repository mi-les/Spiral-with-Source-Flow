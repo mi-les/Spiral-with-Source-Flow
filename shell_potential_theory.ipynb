{
 "cells": [
  {
   "cell_type": "code",
   "execution_count": 25,
   "metadata": {},
   "outputs": [
    {
     "data": {
      "application/vnd.jupyter.widget-view+json": {
       "model_id": "f13b9c56edb24064aa147cb69a4ed909",
       "version_major": 2,
       "version_minor": 0
      },
      "text/plain": [
       "interactive(children=(FloatSlider(value=1.0, description='r_0', max=10.0, min=0.1, step=0.5), FloatSlider(valu…"
      ]
     },
     "metadata": {},
     "output_type": "display_data"
    },
    {
     "data": {
      "text/plain": [
       "<function __main__.update(r_0=1, z_0=0, phi_0=0, phi_n=31.41592653589793, q=3, gamma=10, xi=2, n=500)>"
      ]
     },
     "execution_count": 25,
     "metadata": {},
     "output_type": "execute_result"
    }
   ],
   "source": [
    "import numpy as np\n",
    "import matplotlib.pyplot as plt\n",
    "\n",
    "from ipywidgets import interact\n",
    "\n",
    "n = 500\n",
    "\n",
    "r_0 = 1\n",
    "z_0 = 0\n",
    "phi_0 = 0\n",
    "\n",
    "q = 3\n",
    "gamma = 10\n",
    "xi = 2\n",
    "\n",
    "def plot_spiral(r_0=1, z_0=0, phi_0=0, phi_n=10.*np.pi, q=3, gamma=10, xi=2, n=500):\n",
    "    fig = plt.figure(figsize=(20, 40))\n",
    "    ax = fig.add_subplot(131, projection='3d')\n",
    "    phi = np.linspace(0, phi_n, n)\n",
    "\n",
    "    r = r_0*np.exp(q/gamma*(phi  - phi_0))\n",
    "    z = xi/q * (r - r_0) + z_0\n",
    "\n",
    "    x = r * np.cos(phi)\n",
    "    y = r * np.sin(phi)\n",
    "\n",
    "\n",
    "    ax.plot(x, y, z, )\n",
    "    ax.set_aspect('equal')\n",
    "    # plt.show()\n",
    "\n",
    "    ax = fig.add_subplot(132,projection='3d')\n",
    "    ax.plot(x, y, z, label='parametric curve')\n",
    "    ax.set_aspect('equal')\n",
    "    ax.view_init(elev=0, azim=-90, roll=0)\n",
    "\n",
    "    ax = fig.add_subplot(133,projection='3d')\n",
    "    ax.plot(x, y, z, label='parametric curve')\n",
    "    ax.view_init(elev=90, azim=-90, roll=0)\n",
    "    ax.set_aspect('equal')\n",
    "\n",
    "\n",
    "def update(r_0=1, z_0=0, phi_0=0, phi_n=10.*np.pi, q=3, gamma=10, xi=2, n=500):\n",
    "    plot_spiral(r_0, z_0, phi_0, phi_n, q, gamma, xi, n)\n",
    "\n",
    "interact(update, r_0=(0.1,10, 0.5), z_0=(0, 5,0.1), phi_0=(0, 2*np.pi, 0.2), phi_n=(2*np.pi, 10.*np.pi, 2), q=(0.1, 3, 0.1), gamma=(0.1,20,1), xi=(0.1, 20, 1), n=(100, 1000, 10))\n"
   ]
  },
  {
   "cell_type": "code",
   "execution_count": null,
   "metadata": {},
   "outputs": [],
   "source": []
  }
 ],
 "metadata": {
  "kernelspec": {
   "display_name": "env",
   "language": "python",
   "name": "python3"
  },
  "language_info": {
   "codemirror_mode": {
    "name": "ipython",
    "version": 3
   },
   "file_extension": ".py",
   "mimetype": "text/x-python",
   "name": "python",
   "nbconvert_exporter": "python",
   "pygments_lexer": "ipython3",
   "version": "3.11.9"
  }
 },
 "nbformat": 4,
 "nbformat_minor": 2
}
